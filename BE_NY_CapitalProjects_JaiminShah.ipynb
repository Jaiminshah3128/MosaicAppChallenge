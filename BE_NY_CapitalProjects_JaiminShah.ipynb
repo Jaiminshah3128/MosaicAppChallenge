{
 "cells": [
  {
   "cell_type": "code",
   "execution_count": 1,
   "metadata": {},
   "outputs": [
    {
     "data": {
      "text/plain": [
       "'/Users/jaimin/coding_questions/MosaicApp'"
      ]
     },
     "execution_count": 1,
     "metadata": {},
     "output_type": "execute_result"
    }
   ],
   "source": [
    "pwd"
   ]
  },
  {
   "cell_type": "code",
   "execution_count": 44,
   "metadata": {},
   "outputs": [
    {
     "name": "stdout",
     "output_type": "stream",
     "text": [
      "[['I.S. 254 - BRONX', 'FACADE/ROOFS'], ['I.S. 254 - BRONX', 'FACADE/ROOFS'], ['I.S. 254 - BRONX', 'FY16 RESO A IP SURVEILLANCE CAMERA INSTALLATION'], ['I.S. 254 - BRONX', 'FY16 RESO A IP SURVEILLANCE CAMERA INSTALLATION'], ['I.S. 254 - BRONX', 'FY16 RESO A IP SURVEILLANCE CAMERA INSTALLATION'], ['I.S. 254 - BRONX', 'FY16 RESO A IP SURVEILLANCE CAMERA INSTALLATION'], ['I.S. 254 - BRONX', 'FY17 RESO A TECHNOLOGY'], ['I.S. 254 - BRONX', 'FY17 RESO A TECHNOLOGY'], ['P.S. 279 - BRONX', 'WATER PENETRATION/ROOFS'], ['P.S. 279 - BRONX', 'WATER PENETRATION/ROOFS']]\n",
      "[['07/07/2016', '03/28/2018', '', '4050000', 4229193, 3791127], ['07/07/2016', '03/28/2018', '', '252000', 489326, 485620], ['07/27/2017', '11/27/2017', '08/03/2017', '0', 1792, 1792], ['08/04/2017', '02/05/2018', '', '19110', 17318, 7169], ['PNS', 'PNS', 'PNS', '280280', 280280, 951], ['PNS', 'PNS', 'PNS', '69238', 52551, 2423], ['05/15/2017', '01/15/2018', '09/14/2017', '50000', 49625, 49625], ['05/15/2017', '01/15/2018', '09/14/2017', '76250', 75677, 75677], ['08/02/2016', '12/19/2016', '02/13/2017', '36881', 57074, 56288], ['05/15/2017', '10/16/2017', '12/18/2017', '141246', 183396, 180358]]\n"
     ]
    }
   ],
   "source": [
    "import json\n",
    "class MosaicApp(object):\n",
    "    #Initializing output per page and current page number requested\n",
    "    def __init__(self, page_num):\n",
    "        self.pagination_number = 10\n",
    "        self.page_num = page_num\n",
    "        \n",
    "    ## For showing output based on the page number\n",
    "    def api_pagination(self, output):\n",
    "        current_page_output = []\n",
    "        pagination_number = 10\n",
    "        page_num_start = (self.page_num-1)*(self.pagination_number)\n",
    "        page_num_end = (self.page_num)*(self.pagination_number)\n",
    "        for page_no in range(page_num_start, page_num_end):\n",
    "            current_page_output.append(output[page_no])\n",
    "        return current_page_output\n",
    "        \n",
    "    # load the data in memory (As its just 5mB data used dictionary for now)\n",
    "    # Can also use redis instead.\n",
    "    def data_store(self):\n",
    "        data_store = {}\n",
    "        with open(\"AI_Dataset.json\", \"r\") as read_file:\n",
    "            data = read_file.read()\n",
    "            data_store['data'] = json.loads(data)\n",
    "        # return data_store\n",
    "        current_page_output = self.api_pagination(data_store['data'])\n",
    "        return current_page_output\n",
    "    \n",
    "    # Gives all the projectnames and description\n",
    "    def all_projname_and_description(self, data_store):\n",
    "        output = []\n",
    "        # data = data_store['data']\n",
    "        for record in data_store:\n",
    "            inner_output = []\n",
    "            if \"Project School Name\" in record:\n",
    "                inner_output.append(record[\"Project School Name\"])\n",
    "            if \"Project Description\" in record:\n",
    "                inner_output.append(record[\"Project Description\"])\n",
    "            if inner_output:\n",
    "                output.append(inner_output)\n",
    "        return output\n",
    "        \n",
    "    # Filter on required params\n",
    "    def filter_on(self, data_store, params):\n",
    "        filter_on_params = [\"Project Phase Actual Start Date\", \n",
    "                            \"Project Phase Planned End Date\", \n",
    "                            \"Project Phase Actual End Date\", \n",
    "                            \"Project Budget Amount\", \n",
    "                            \"Final Estimate of Actual Costs Through End of Phase Amount\", \n",
    "                            \"Total Phase Actual Spending Amount\"]\n",
    "        if len(params)<1:\n",
    "            return []\n",
    "        else:\n",
    "            filter_params = []\n",
    "            for param in params:\n",
    "                if param in filter_on_params:\n",
    "                    filter_params.append(param)\n",
    "        if len(filter_params)<1:\n",
    "            return []\n",
    "        else:\n",
    "            output = []\n",
    "            # data = data_store['data']\n",
    "            for record in data_store:\n",
    "                inner_output = []\n",
    "                for param in filter_params:\n",
    "                    if param in record:\n",
    "                        inner_output.append(record.get(param))\n",
    "                if inner_output:\n",
    "                    output.append(inner_output)\n",
    "            return output\n",
    "            \n",
    "            \n",
    "        \n",
    "m = MosaicApp(1)\n",
    "data = m.data_store()\n",
    "data1 = m.all_projname_and_description(data)\n",
    "print(data1)\n",
    "## Give the params you want the filtered output for\n",
    "params = [\"Project Phase Actual Start Date\", \n",
    "          \"Project Phase Planned End Date\", \n",
    "          \"Project Phase Actual End Date\", \n",
    "          \"Project Budget Amount\", \n",
    "          \"Final Estimate of Actual Costs Through End of Phase Amount\", \n",
    "          \"Total Phase Actual Spending Amount\"]\n",
    "data2 = m.filter_on(data, params)\n",
    "print(data2)"
   ]
  },
  {
   "cell_type": "code",
   "execution_count": null,
   "metadata": {},
   "outputs": [
    {
     "name": "stderr",
     "output_type": "stream",
     "text": [
      " * Running on http://127.0.0.1:5000/ (Press CTRL+C to quit)\n",
      "127.0.0.1 - - [23/Mar/2019 18:51:44] \"GET / HTTP/1.1\" 200 -\n"
     ]
    }
   ],
   "source": [
    "# To Do for the UI\n",
    "from flask import Flask\n",
    "app = Flask(__name__)\n",
    "\n",
    "@app.route('/')\n",
    "def index():\n",
    "    return \"Hello World\"\n",
    "\n",
    "if __name__ == \"__main__\":\n",
    "    app.run()\n",
    "    "
   ]
  },
  {
   "cell_type": "code",
   "execution_count": null,
   "metadata": {},
   "outputs": [],
   "source": []
  }
 ],
 "metadata": {
  "kernelspec": {
   "display_name": "Python 3",
   "language": "python",
   "name": "python3"
  },
  "language_info": {
   "codemirror_mode": {
    "name": "ipython",
    "version": 3
   },
   "file_extension": ".py",
   "mimetype": "text/x-python",
   "name": "python",
   "nbconvert_exporter": "python",
   "pygments_lexer": "ipython3",
   "version": "3.6.5"
  }
 },
 "nbformat": 4,
 "nbformat_minor": 2
}
